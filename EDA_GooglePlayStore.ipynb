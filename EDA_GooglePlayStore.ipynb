{
 "cells": [
  {
   "cell_type": "code",
   "execution_count": 102,
   "metadata": {},
   "outputs": [],
   "source": [
    "import matplotlib.pyplot as plt\n",
    "import seaborn as sns\n",
    "import pandas as pd\n",
    "import numpy as np\n",
    "import re"
   ]
  },
  {
   "cell_type": "code",
   "execution_count": 103,
   "metadata": {},
   "outputs": [
    {
     "data": {
      "text/html": [
       "<div>\n",
       "<style scoped>\n",
       "    .dataframe tbody tr th:only-of-type {\n",
       "        vertical-align: middle;\n",
       "    }\n",
       "\n",
       "    .dataframe tbody tr th {\n",
       "        vertical-align: top;\n",
       "    }\n",
       "\n",
       "    .dataframe thead th {\n",
       "        text-align: right;\n",
       "    }\n",
       "</style>\n",
       "<table border=\"1\" class=\"dataframe\">\n",
       "  <thead>\n",
       "    <tr style=\"text-align: right;\">\n",
       "      <th></th>\n",
       "      <th>App</th>\n",
       "      <th>Category</th>\n",
       "      <th>Rating</th>\n",
       "      <th>Reviews</th>\n",
       "      <th>Size</th>\n",
       "      <th>Installs</th>\n",
       "      <th>Type</th>\n",
       "      <th>Price</th>\n",
       "      <th>Content Rating</th>\n",
       "      <th>Genres</th>\n",
       "      <th>Last Updated</th>\n",
       "      <th>Current Ver</th>\n",
       "      <th>Android Ver</th>\n",
       "    </tr>\n",
       "  </thead>\n",
       "  <tbody>\n",
       "    <tr>\n",
       "      <th>0</th>\n",
       "      <td>Photo Editor &amp; Candy Camera &amp; Grid &amp; ScrapBook</td>\n",
       "      <td>ART_AND_DESIGN</td>\n",
       "      <td>4.1</td>\n",
       "      <td>159</td>\n",
       "      <td>19M</td>\n",
       "      <td>10,000+</td>\n",
       "      <td>Free</td>\n",
       "      <td>0</td>\n",
       "      <td>Everyone</td>\n",
       "      <td>Art &amp; Design</td>\n",
       "      <td>January 7, 2018</td>\n",
       "      <td>1.0.0</td>\n",
       "      <td>4.0.3 and up</td>\n",
       "    </tr>\n",
       "    <tr>\n",
       "      <th>1</th>\n",
       "      <td>Coloring book moana</td>\n",
       "      <td>ART_AND_DESIGN</td>\n",
       "      <td>3.9</td>\n",
       "      <td>967</td>\n",
       "      <td>14M</td>\n",
       "      <td>500,000+</td>\n",
       "      <td>Free</td>\n",
       "      <td>0</td>\n",
       "      <td>Everyone</td>\n",
       "      <td>Art &amp; Design;Pretend Play</td>\n",
       "      <td>January 15, 2018</td>\n",
       "      <td>2.0.0</td>\n",
       "      <td>4.0.3 and up</td>\n",
       "    </tr>\n",
       "    <tr>\n",
       "      <th>2</th>\n",
       "      <td>U Launcher Lite – FREE Live Cool Themes, Hide ...</td>\n",
       "      <td>ART_AND_DESIGN</td>\n",
       "      <td>4.7</td>\n",
       "      <td>87510</td>\n",
       "      <td>8.7M</td>\n",
       "      <td>5,000,000+</td>\n",
       "      <td>Free</td>\n",
       "      <td>0</td>\n",
       "      <td>Everyone</td>\n",
       "      <td>Art &amp; Design</td>\n",
       "      <td>August 1, 2018</td>\n",
       "      <td>1.2.4</td>\n",
       "      <td>4.0.3 and up</td>\n",
       "    </tr>\n",
       "    <tr>\n",
       "      <th>3</th>\n",
       "      <td>Sketch - Draw &amp; Paint</td>\n",
       "      <td>ART_AND_DESIGN</td>\n",
       "      <td>4.5</td>\n",
       "      <td>215644</td>\n",
       "      <td>25M</td>\n",
       "      <td>50,000,000+</td>\n",
       "      <td>Free</td>\n",
       "      <td>0</td>\n",
       "      <td>Teen</td>\n",
       "      <td>Art &amp; Design</td>\n",
       "      <td>June 8, 2018</td>\n",
       "      <td>Varies with device</td>\n",
       "      <td>4.2 and up</td>\n",
       "    </tr>\n",
       "    <tr>\n",
       "      <th>4</th>\n",
       "      <td>Pixel Draw - Number Art Coloring Book</td>\n",
       "      <td>ART_AND_DESIGN</td>\n",
       "      <td>4.3</td>\n",
       "      <td>967</td>\n",
       "      <td>2.8M</td>\n",
       "      <td>100,000+</td>\n",
       "      <td>Free</td>\n",
       "      <td>0</td>\n",
       "      <td>Everyone</td>\n",
       "      <td>Art &amp; Design;Creativity</td>\n",
       "      <td>June 20, 2018</td>\n",
       "      <td>1.1</td>\n",
       "      <td>4.4 and up</td>\n",
       "    </tr>\n",
       "  </tbody>\n",
       "</table>\n",
       "</div>"
      ],
      "text/plain": [
       "                                                 App        Category  Rating  \\\n",
       "0     Photo Editor & Candy Camera & Grid & ScrapBook  ART_AND_DESIGN     4.1   \n",
       "1                                Coloring book moana  ART_AND_DESIGN     3.9   \n",
       "2  U Launcher Lite – FREE Live Cool Themes, Hide ...  ART_AND_DESIGN     4.7   \n",
       "3                              Sketch - Draw & Paint  ART_AND_DESIGN     4.5   \n",
       "4              Pixel Draw - Number Art Coloring Book  ART_AND_DESIGN     4.3   \n",
       "\n",
       "  Reviews  Size     Installs  Type Price Content Rating  \\\n",
       "0     159   19M      10,000+  Free     0       Everyone   \n",
       "1     967   14M     500,000+  Free     0       Everyone   \n",
       "2   87510  8.7M   5,000,000+  Free     0       Everyone   \n",
       "3  215644   25M  50,000,000+  Free     0           Teen   \n",
       "4     967  2.8M     100,000+  Free     0       Everyone   \n",
       "\n",
       "                      Genres      Last Updated         Current Ver  \\\n",
       "0               Art & Design   January 7, 2018               1.0.0   \n",
       "1  Art & Design;Pretend Play  January 15, 2018               2.0.0   \n",
       "2               Art & Design    August 1, 2018               1.2.4   \n",
       "3               Art & Design      June 8, 2018  Varies with device   \n",
       "4    Art & Design;Creativity     June 20, 2018                 1.1   \n",
       "\n",
       "    Android Ver  \n",
       "0  4.0.3 and up  \n",
       "1  4.0.3 and up  \n",
       "2  4.0.3 and up  \n",
       "3    4.2 and up  \n",
       "4    4.4 and up  "
      ]
     },
     "execution_count": 103,
     "metadata": {},
     "output_type": "execute_result"
    }
   ],
   "source": [
    "data = pd.read_csv('./google-play-store.csv')\n",
    "data.head()"
   ]
  },
  {
   "cell_type": "markdown",
   "metadata": {},
   "source": [
    "### Cleaning Data"
   ]
  },
  {
   "cell_type": "code",
   "execution_count": 104,
   "metadata": {},
   "outputs": [
    {
     "name": "stdout",
     "output_type": "stream",
     "text": [
      "<class 'pandas.core.frame.DataFrame'>\n",
      "RangeIndex: 10841 entries, 0 to 10840\n",
      "Data columns (total 13 columns):\n",
      " #   Column          Non-Null Count  Dtype  \n",
      "---  ------          --------------  -----  \n",
      " 0   App             10841 non-null  object \n",
      " 1   Category        10841 non-null  object \n",
      " 2   Rating          9367 non-null   float64\n",
      " 3   Reviews         10841 non-null  object \n",
      " 4   Size            10841 non-null  object \n",
      " 5   Installs        10841 non-null  object \n",
      " 6   Type            10840 non-null  object \n",
      " 7   Price           10841 non-null  object \n",
      " 8   Content Rating  10840 non-null  object \n",
      " 9   Genres          10841 non-null  object \n",
      " 10  Last Updated    10841 non-null  object \n",
      " 11  Current Ver     10833 non-null  object \n",
      " 12  Android Ver     10838 non-null  object \n",
      "dtypes: float64(1), object(12)\n",
      "memory usage: 1.1+ MB\n"
     ]
    }
   ],
   "source": [
    "data.info()"
   ]
  },
  {
   "cell_type": "code",
   "execution_count": 105,
   "metadata": {},
   "outputs": [],
   "source": [
    "# Drop some unuse data: Current ver, last updated due to lack of information insight\n",
    "data.drop(columns=['Last Updated', 'Current Ver'], inplace=True)"
   ]
  },
  {
   "cell_type": "code",
   "execution_count": 106,
   "metadata": {},
   "outputs": [
    {
     "data": {
      "text/plain": [
       "Rating            1474\n",
       "Type                 1\n",
       "Content Rating       1\n",
       "Android Ver          3\n",
       "dtype: int64"
      ]
     },
     "execution_count": 106,
     "metadata": {},
     "output_type": "execute_result"
    }
   ],
   "source": [
    "# Check nah\n",
    "data.isna().sum()[data.isna().sum() > 0]"
   ]
  },
  {
   "cell_type": "markdown",
   "metadata": {},
   "source": [
    "**Reviews**"
   ]
  },
  {
   "cell_type": "code",
   "execution_count": 107,
   "metadata": {},
   "outputs": [],
   "source": [
    "# Run this code to detect strange value: '3.0M' in Reviews\n",
    "# data.Reviews = data.Reviews.astype('int64')"
   ]
  },
  {
   "cell_type": "code",
   "execution_count": 108,
   "metadata": {},
   "outputs": [
    {
     "data": {
      "text/html": [
       "<div>\n",
       "<style scoped>\n",
       "    .dataframe tbody tr th:only-of-type {\n",
       "        vertical-align: middle;\n",
       "    }\n",
       "\n",
       "    .dataframe tbody tr th {\n",
       "        vertical-align: top;\n",
       "    }\n",
       "\n",
       "    .dataframe thead th {\n",
       "        text-align: right;\n",
       "    }\n",
       "</style>\n",
       "<table border=\"1\" class=\"dataframe\">\n",
       "  <thead>\n",
       "    <tr style=\"text-align: right;\">\n",
       "      <th></th>\n",
       "      <th>App</th>\n",
       "      <th>Category</th>\n",
       "      <th>Rating</th>\n",
       "      <th>Reviews</th>\n",
       "      <th>Size</th>\n",
       "      <th>Installs</th>\n",
       "      <th>Type</th>\n",
       "      <th>Price</th>\n",
       "      <th>Content Rating</th>\n",
       "      <th>Genres</th>\n",
       "      <th>Android Ver</th>\n",
       "    </tr>\n",
       "  </thead>\n",
       "  <tbody>\n",
       "    <tr>\n",
       "      <th>10472</th>\n",
       "      <td>Life Made WI-Fi Touchscreen Photo Frame</td>\n",
       "      <td>1.9</td>\n",
       "      <td>19.0</td>\n",
       "      <td>3.0M</td>\n",
       "      <td>1,000+</td>\n",
       "      <td>Free</td>\n",
       "      <td>0</td>\n",
       "      <td>Everyone</td>\n",
       "      <td>NaN</td>\n",
       "      <td>February 11, 2018</td>\n",
       "      <td>NaN</td>\n",
       "    </tr>\n",
       "  </tbody>\n",
       "</table>\n",
       "</div>"
      ],
      "text/plain": [
       "                                           App Category  Rating Reviews  \\\n",
       "10472  Life Made WI-Fi Touchscreen Photo Frame      1.9    19.0    3.0M   \n",
       "\n",
       "         Size Installs Type     Price Content Rating             Genres  \\\n",
       "10472  1,000+     Free    0  Everyone            NaN  February 11, 2018   \n",
       "\n",
       "      Android Ver  \n",
       "10472         NaN  "
      ]
     },
     "execution_count": 108,
     "metadata": {},
     "output_type": "execute_result"
    }
   ],
   "source": [
    "# Rating beyond 5.0, Size small, category unknow => outlier, need to remove\n",
    "data[data.Reviews.str.contains('M')]"
   ]
  },
  {
   "cell_type": "code",
   "execution_count": 109,
   "metadata": {},
   "outputs": [],
   "source": [
    "data.drop(labels=[10472], axis=0,inplace=True)"
   ]
  },
  {
   "cell_type": "code",
   "execution_count": 110,
   "metadata": {},
   "outputs": [],
   "source": [
    "# Now it safe to astype int\n",
    "data.Reviews = data.Reviews.astype('int64')"
   ]
  },
  {
   "cell_type": "markdown",
   "metadata": {},
   "source": [
    "**App**"
   ]
  },
  {
   "cell_type": "code",
   "execution_count": 111,
   "metadata": {},
   "outputs": [
    {
     "name": "stdout",
     "output_type": "stream",
     "text": [
      "N Unique: 9659, N Duplicated: 1181\n"
     ]
    },
    {
     "data": {
      "text/plain": [
       "229    Quick PDF Scanner + OCR FREE\n",
       "236                             Box\n",
       "239              Google My Business\n",
       "256             ZOOM Cloud Meetings\n",
       "261       join.me - Simple Meetings\n",
       "Name: App, dtype: object"
      ]
     },
     "execution_count": 111,
     "metadata": {},
     "output_type": "execute_result"
    }
   ],
   "source": [
    "# App check duplicated\n",
    "print('N Unique: {}, N Duplicated: {}'.format(data.App.nunique(), data.App.size - data.App.nunique()))\n",
    "duplicated_app = data.App[data.App.duplicated()]\n",
    "data.App[data.App.duplicated()].head()"
   ]
  },
  {
   "cell_type": "code",
   "execution_count": 112,
   "metadata": {},
   "outputs": [
    {
     "data": {
      "text/html": [
       "<div>\n",
       "<style scoped>\n",
       "    .dataframe tbody tr th:only-of-type {\n",
       "        vertical-align: middle;\n",
       "    }\n",
       "\n",
       "    .dataframe tbody tr th {\n",
       "        vertical-align: top;\n",
       "    }\n",
       "\n",
       "    .dataframe thead th {\n",
       "        text-align: right;\n",
       "    }\n",
       "</style>\n",
       "<table border=\"1\" class=\"dataframe\">\n",
       "  <thead>\n",
       "    <tr style=\"text-align: right;\">\n",
       "      <th></th>\n",
       "      <th>App</th>\n",
       "      <th>Category</th>\n",
       "      <th>Rating</th>\n",
       "      <th>Reviews</th>\n",
       "      <th>Size</th>\n",
       "      <th>Installs</th>\n",
       "      <th>Type</th>\n",
       "      <th>Price</th>\n",
       "      <th>Content Rating</th>\n",
       "      <th>Genres</th>\n",
       "      <th>Android Ver</th>\n",
       "    </tr>\n",
       "  </thead>\n",
       "  <tbody>\n",
       "    <tr>\n",
       "      <th>222</th>\n",
       "      <td>Quick PDF Scanner + OCR FREE</td>\n",
       "      <td>BUSINESS</td>\n",
       "      <td>4.2</td>\n",
       "      <td>80805</td>\n",
       "      <td>Varies with device</td>\n",
       "      <td>5,000,000+</td>\n",
       "      <td>Free</td>\n",
       "      <td>0</td>\n",
       "      <td>Everyone</td>\n",
       "      <td>Business</td>\n",
       "      <td>4.0.3 and up</td>\n",
       "    </tr>\n",
       "    <tr>\n",
       "      <th>229</th>\n",
       "      <td>Quick PDF Scanner + OCR FREE</td>\n",
       "      <td>BUSINESS</td>\n",
       "      <td>4.2</td>\n",
       "      <td>80805</td>\n",
       "      <td>Varies with device</td>\n",
       "      <td>5,000,000+</td>\n",
       "      <td>Free</td>\n",
       "      <td>0</td>\n",
       "      <td>Everyone</td>\n",
       "      <td>Business</td>\n",
       "      <td>4.0.3 and up</td>\n",
       "    </tr>\n",
       "    <tr>\n",
       "      <th>285</th>\n",
       "      <td>Quick PDF Scanner + OCR FREE</td>\n",
       "      <td>BUSINESS</td>\n",
       "      <td>4.2</td>\n",
       "      <td>80804</td>\n",
       "      <td>Varies with device</td>\n",
       "      <td>5,000,000+</td>\n",
       "      <td>Free</td>\n",
       "      <td>0</td>\n",
       "      <td>Everyone</td>\n",
       "      <td>Business</td>\n",
       "      <td>4.0.3 and up</td>\n",
       "    </tr>\n",
       "  </tbody>\n",
       "</table>\n",
       "</div>"
      ],
      "text/plain": [
       "                              App  Category  Rating  Reviews  \\\n",
       "222  Quick PDF Scanner + OCR FREE  BUSINESS     4.2    80805   \n",
       "229  Quick PDF Scanner + OCR FREE  BUSINESS     4.2    80805   \n",
       "285  Quick PDF Scanner + OCR FREE  BUSINESS     4.2    80804   \n",
       "\n",
       "                   Size    Installs  Type Price Content Rating    Genres  \\\n",
       "222  Varies with device  5,000,000+  Free     0       Everyone  Business   \n",
       "229  Varies with device  5,000,000+  Free     0       Everyone  Business   \n",
       "285  Varies with device  5,000,000+  Free     0       Everyone  Business   \n",
       "\n",
       "      Android Ver  \n",
       "222  4.0.3 and up  \n",
       "229  4.0.3 and up  \n",
       "285  4.0.3 and up  "
      ]
     },
     "execution_count": 112,
     "metadata": {},
     "output_type": "execute_result"
    }
   ],
   "source": [
    "# They are exactly the same! So we can remove it from dataframe\n",
    "data[data.App == duplicated_app.iloc[0]]"
   ]
  },
  {
   "cell_type": "code",
   "execution_count": 113,
   "metadata": {},
   "outputs": [
    {
     "data": {
      "text/html": [
       "<div>\n",
       "<style scoped>\n",
       "    .dataframe tbody tr th:only-of-type {\n",
       "        vertical-align: middle;\n",
       "    }\n",
       "\n",
       "    .dataframe tbody tr th {\n",
       "        vertical-align: top;\n",
       "    }\n",
       "\n",
       "    .dataframe thead th {\n",
       "        text-align: right;\n",
       "    }\n",
       "</style>\n",
       "<table border=\"1\" class=\"dataframe\">\n",
       "  <thead>\n",
       "    <tr style=\"text-align: right;\">\n",
       "      <th></th>\n",
       "      <th>App</th>\n",
       "      <th>Category</th>\n",
       "      <th>Rating</th>\n",
       "      <th>Reviews</th>\n",
       "      <th>Size</th>\n",
       "      <th>Installs</th>\n",
       "      <th>Type</th>\n",
       "      <th>Price</th>\n",
       "      <th>Content Rating</th>\n",
       "      <th>Genres</th>\n",
       "      <th>Android Ver</th>\n",
       "    </tr>\n",
       "  </thead>\n",
       "  <tbody>\n",
       "    <tr>\n",
       "      <th>222</th>\n",
       "      <td>Quick PDF Scanner + OCR FREE</td>\n",
       "      <td>BUSINESS</td>\n",
       "      <td>4.2</td>\n",
       "      <td>80805</td>\n",
       "      <td>Varies with device</td>\n",
       "      <td>5,000,000+</td>\n",
       "      <td>Free</td>\n",
       "      <td>0</td>\n",
       "      <td>Everyone</td>\n",
       "      <td>Business</td>\n",
       "      <td>4.0.3 and up</td>\n",
       "    </tr>\n",
       "  </tbody>\n",
       "</table>\n",
       "</div>"
      ],
      "text/plain": [
       "                              App  Category  Rating  Reviews  \\\n",
       "222  Quick PDF Scanner + OCR FREE  BUSINESS     4.2    80805   \n",
       "\n",
       "                   Size    Installs  Type Price Content Rating    Genres  \\\n",
       "222  Varies with device  5,000,000+  Free     0       Everyone  Business   \n",
       "\n",
       "      Android Ver  \n",
       "222  4.0.3 and up  "
      ]
     },
     "execution_count": 113,
     "metadata": {},
     "output_type": "execute_result"
    }
   ],
   "source": [
    "data.drop_duplicates(subset='App', inplace=True)\n",
    "data[data.App == duplicated_app.iloc[0]]"
   ]
  },
  {
   "cell_type": "markdown",
   "metadata": {},
   "source": [
    "**Some App are not duplicated, but they are still the same (fake app)**"
   ]
  },
  {
   "cell_type": "code",
   "execution_count": 114,
   "metadata": {},
   "outputs": [
    {
     "name": "stdout",
     "output_type": "stream",
     "text": [
      "Check App are unique: False\n",
      "N Unique: 9638, N Duplicated: 21\n"
     ]
    },
    {
     "data": {
      "text/plain": [
       "2827          photo frame\n",
       "3927           4 in a row\n",
       "4924    ac remote control\n",
       "4941    ac remote control\n",
       "5077              applock\n",
       "Name: App, dtype: object"
      ]
     },
     "execution_count": 114,
     "metadata": {},
     "output_type": "execute_result"
    }
   ],
   "source": [
    "# Check Again with lower and strip\n",
    "data.App = data.App.str.lower()\n",
    "data.App = data.App.str.strip()\n",
    "print('Check App are unique:', data.App.size == data.App.nunique())\n",
    "print('N Unique: {}, N Duplicated: {}'.format(data.App.nunique(), data.App.size - data.App.nunique()))\n",
    "duplicated_app = data.App[data.App.duplicated()]\n",
    "data.App[data.App.duplicated()].head()"
   ]
  },
  {
   "cell_type": "code",
   "execution_count": 115,
   "metadata": {},
   "outputs": [
    {
     "data": {
      "text/html": [
       "<div>\n",
       "<style scoped>\n",
       "    .dataframe tbody tr th:only-of-type {\n",
       "        vertical-align: middle;\n",
       "    }\n",
       "\n",
       "    .dataframe tbody tr th {\n",
       "        vertical-align: top;\n",
       "    }\n",
       "\n",
       "    .dataframe thead th {\n",
       "        text-align: right;\n",
       "    }\n",
       "</style>\n",
       "<table border=\"1\" class=\"dataframe\">\n",
       "  <thead>\n",
       "    <tr style=\"text-align: right;\">\n",
       "      <th></th>\n",
       "      <th>App</th>\n",
       "      <th>Category</th>\n",
       "      <th>Rating</th>\n",
       "      <th>Reviews</th>\n",
       "      <th>Size</th>\n",
       "      <th>Installs</th>\n",
       "      <th>Type</th>\n",
       "      <th>Price</th>\n",
       "      <th>Content Rating</th>\n",
       "      <th>Genres</th>\n",
       "      <th>Android Ver</th>\n",
       "    </tr>\n",
       "  </thead>\n",
       "  <tbody>\n",
       "    <tr>\n",
       "      <th>4902</th>\n",
       "      <td>ac remote control</td>\n",
       "      <td>TOOLS</td>\n",
       "      <td>3.3</td>\n",
       "      <td>472</td>\n",
       "      <td>2.0M</td>\n",
       "      <td>100,000+</td>\n",
       "      <td>Free</td>\n",
       "      <td>0</td>\n",
       "      <td>Everyone</td>\n",
       "      <td>Tools</td>\n",
       "      <td>4.1 and up</td>\n",
       "    </tr>\n",
       "    <tr>\n",
       "      <th>4924</th>\n",
       "      <td>ac remote control</td>\n",
       "      <td>TOOLS</td>\n",
       "      <td>3.7</td>\n",
       "      <td>822</td>\n",
       "      <td>5.0M</td>\n",
       "      <td>50,000+</td>\n",
       "      <td>Free</td>\n",
       "      <td>0</td>\n",
       "      <td>Everyone</td>\n",
       "      <td>Tools</td>\n",
       "      <td>2.3 and up</td>\n",
       "    </tr>\n",
       "    <tr>\n",
       "      <th>4941</th>\n",
       "      <td>ac remote control</td>\n",
       "      <td>TOOLS</td>\n",
       "      <td>3.7</td>\n",
       "      <td>9514</td>\n",
       "      <td>7.0M</td>\n",
       "      <td>500,000+</td>\n",
       "      <td>Free</td>\n",
       "      <td>0</td>\n",
       "      <td>Everyone</td>\n",
       "      <td>Tools</td>\n",
       "      <td>4.0.3 and up</td>\n",
       "    </tr>\n",
       "  </tbody>\n",
       "</table>\n",
       "</div>"
      ],
      "text/plain": [
       "                    App Category  Rating  Reviews  Size  Installs  Type Price  \\\n",
       "4902  ac remote control    TOOLS     3.3      472  2.0M  100,000+  Free     0   \n",
       "4924  ac remote control    TOOLS     3.7      822  5.0M   50,000+  Free     0   \n",
       "4941  ac remote control    TOOLS     3.7     9514  7.0M  500,000+  Free     0   \n",
       "\n",
       "     Content Rating Genres   Android Ver  \n",
       "4902       Everyone  Tools    4.1 and up  \n",
       "4924       Everyone  Tools    2.3 and up  \n",
       "4941       Everyone  Tools  4.0.3 and up  "
      ]
     },
     "execution_count": 115,
     "metadata": {},
     "output_type": "execute_result"
    }
   ],
   "source": [
    "data[data.App == duplicated_app.iloc[3]]"
   ]
  },
  {
   "cell_type": "code",
   "execution_count": 116,
   "metadata": {},
   "outputs": [],
   "source": [
    "# Keep the largest Reviews\n",
    "data = data.sort_values('Reviews', ascending=False).drop_duplicates('App').sort_index()"
   ]
  },
  {
   "cell_type": "code",
   "execution_count": 117,
   "metadata": {},
   "outputs": [
    {
     "data": {
      "text/html": [
       "<div>\n",
       "<style scoped>\n",
       "    .dataframe tbody tr th:only-of-type {\n",
       "        vertical-align: middle;\n",
       "    }\n",
       "\n",
       "    .dataframe tbody tr th {\n",
       "        vertical-align: top;\n",
       "    }\n",
       "\n",
       "    .dataframe thead th {\n",
       "        text-align: right;\n",
       "    }\n",
       "</style>\n",
       "<table border=\"1\" class=\"dataframe\">\n",
       "  <thead>\n",
       "    <tr style=\"text-align: right;\">\n",
       "      <th></th>\n",
       "      <th>App</th>\n",
       "      <th>Category</th>\n",
       "      <th>Rating</th>\n",
       "      <th>Reviews</th>\n",
       "      <th>Size</th>\n",
       "      <th>Installs</th>\n",
       "      <th>Type</th>\n",
       "      <th>Price</th>\n",
       "      <th>Content Rating</th>\n",
       "      <th>Genres</th>\n",
       "      <th>Android Ver</th>\n",
       "    </tr>\n",
       "  </thead>\n",
       "  <tbody>\n",
       "    <tr>\n",
       "      <th>4941</th>\n",
       "      <td>ac remote control</td>\n",
       "      <td>TOOLS</td>\n",
       "      <td>3.7</td>\n",
       "      <td>9514</td>\n",
       "      <td>7.0M</td>\n",
       "      <td>500,000+</td>\n",
       "      <td>Free</td>\n",
       "      <td>0</td>\n",
       "      <td>Everyone</td>\n",
       "      <td>Tools</td>\n",
       "      <td>4.0.3 and up</td>\n",
       "    </tr>\n",
       "  </tbody>\n",
       "</table>\n",
       "</div>"
      ],
      "text/plain": [
       "                    App Category  Rating  Reviews  Size  Installs  Type Price  \\\n",
       "4941  ac remote control    TOOLS     3.7     9514  7.0M  500,000+  Free     0   \n",
       "\n",
       "     Content Rating Genres   Android Ver  \n",
       "4941       Everyone  Tools  4.0.3 and up  "
      ]
     },
     "execution_count": 117,
     "metadata": {},
     "output_type": "execute_result"
    }
   ],
   "source": [
    "data[data.App == duplicated_app.iloc[3]]"
   ]
  },
  {
   "cell_type": "markdown",
   "metadata": {},
   "source": [
    "**Category & Genres**"
   ]
  },
  {
   "cell_type": "code",
   "execution_count": 118,
   "metadata": {},
   "outputs": [
    {
     "data": {
      "text/plain": [
       "33"
      ]
     },
     "execution_count": 118,
     "metadata": {},
     "output_type": "execute_result"
    }
   ],
   "source": [
    "data.Category = data.Category.str.lower()\n",
    "data.Genres = data.Genres.str.lower()\n",
    "data.Category.nunique()"
   ]
  },
  {
   "cell_type": "code",
   "execution_count": 119,
   "metadata": {},
   "outputs": [],
   "source": [
    "data.Category = data.Category.astype('category')\n",
    "data.Genres = data.Genres.astype('category')"
   ]
  },
  {
   "cell_type": "markdown",
   "metadata": {},
   "source": [
    "**'video players' and 'video players & editors' are the same**"
   ]
  },
  {
   "cell_type": "code",
   "execution_count": 120,
   "metadata": {},
   "outputs": [
    {
     "data": {
      "text/plain": [
       "['video players & editors;creativity', 'video players & editors', 'video players & editors;music & video']\n",
       "Categories (3, object): ['video players & editors;creativity', 'video players & editors', 'video players & editors;music & video']"
      ]
     },
     "execution_count": 120,
     "metadata": {},
     "output_type": "execute_result"
    }
   ],
   "source": [
    "data[data.Genres.str.contains('editors')].Genres.unique()"
   ]
  },
  {
   "cell_type": "code",
   "execution_count": 121,
   "metadata": {},
   "outputs": [
    {
     "data": {
      "text/plain": [
       "['video players & editors;creativity', 'video players & editors', 'video players & editors;music & video']\n",
       "Categories (3, object): ['video players & editors;creativity', 'video players & editors', 'video players & editors;music & video']"
      ]
     },
     "execution_count": 121,
     "metadata": {},
     "output_type": "execute_result"
    }
   ],
   "source": [
    "data[data.Genres.str.contains('video players')].Genres.unique()"
   ]
  },
  {
   "cell_type": "markdown",
   "metadata": {},
   "source": [
    "**Remove Editors Genre is safety**"
   ]
  },
  {
   "cell_type": "code",
   "execution_count": 122,
   "metadata": {},
   "outputs": [
    {
     "data": {
      "text/plain": [
       "['family', 'video_players']\n",
       "Categories (2, object): ['family', 'video_players']"
      ]
     },
     "execution_count": 122,
     "metadata": {},
     "output_type": "execute_result"
    }
   ],
   "source": [
    "data[data.Genres.str.contains('editors')].Category.unique()"
   ]
  },
  {
   "cell_type": "code",
   "execution_count": 123,
   "metadata": {},
   "outputs": [
    {
     "data": {
      "text/plain": [
       "['video players & editors;creativity', 'video players & editors;music & video']\n",
       "Categories (2, object): ['video players & editors;creativity', 'video players & editors;music & video']"
      ]
     },
     "execution_count": 123,
     "metadata": {},
     "output_type": "execute_result"
    }
   ],
   "source": [
    "data[np.logical_and(data.Category.str.contains('family').to_numpy(), data.Genres.str.contains('editors').to_numpy())].Genres.unique()"
   ]
  },
  {
   "cell_type": "code",
   "execution_count": 124,
   "metadata": {},
   "outputs": [],
   "source": [
    "# Category: art_and_design -- Genres: art & design\n",
    "# 2 different between _and_ -- &\n",
    "# video players --- video players & editors\n",
    "def standard_genres_category(text):\n",
    "    text = re.sub(' & editors', '', text)\n",
    "    text = re.sub('&', 'and', text)\n",
    "    text = re.sub(' ', '_', text)\n",
    "    text = re.sub(';', ' ', text)\n",
    "    return text\n",
    "\n",
    "data.Genres = data.Genres.apply(standard_genres_category)"
   ]
  },
  {
   "cell_type": "code",
   "execution_count": 125,
   "metadata": {},
   "outputs": [
    {
     "name": "stdout",
     "output_type": "stream",
     "text": [
      "53\n"
     ]
    }
   ],
   "source": [
    "def check_unique_genres(series):\n",
    "    dictionary = set()\n",
    "    for idx in series:\n",
    "        for i in idx.split():\n",
    "            dictionary.add(i)\n",
    "    return dictionary\n",
    "\n",
    "dictionary = check_unique_genres(data.Genres.unique())\n",
    "print(len(dictionary))"
   ]
  },
  {
   "cell_type": "markdown",
   "metadata": {},
   "source": [
    "**List genres that not in category**"
   ]
  },
  {
   "cell_type": "code",
   "execution_count": 126,
   "metadata": {},
   "outputs": [
    {
     "data": {
      "text/plain": [
       "array(['strategy', 'word', 'music_and_video', 'educational',\n",
       "       'brain_games', 'pretend_play', 'music', 'action_and_adventure',\n",
       "       'arcade', 'action', 'board', 'creativity', 'puzzle', 'simulation',\n",
       "       'trivia', 'adventure', 'casual', 'music_and_audio', 'card',\n",
       "       'casino', 'role_playing', 'racing'], dtype='<U20')"
      ]
     },
     "execution_count": 126,
     "metadata": {},
     "output_type": "execute_result"
    }
   ],
   "source": [
    "np.array(list(filter(lambda x: x not in data.Category.unique().to_numpy(), dictionary)))"
   ]
  },
  {
   "cell_type": "code",
   "execution_count": 127,
   "metadata": {},
   "outputs": [],
   "source": [
    "# => Education and educational are the same\n",
    "data.Genres = data.Genres.apply(lambda x: re.sub('educational', 'education', x))\n",
    "data.Genres = data.Genres.apply(lambda x: re.sub('education education', 'education', x))"
   ]
  },
  {
   "cell_type": "markdown",
   "metadata": {},
   "source": [
    "**Size**"
   ]
  },
  {
   "cell_type": "code",
   "execution_count": 128,
   "metadata": {},
   "outputs": [],
   "source": [
    "def standard_size(size):\n",
    "    if size[-1] == 'M':\n",
    "        size = float(size[:-1]) * 1000\n",
    "    elif size[-1] == 'k':\n",
    "        size = float(size[:-1])\n",
    "    else:\n",
    "        size = None\n",
    "    return size\n",
    "\n",
    "data.Size = data.Size.apply(standard_size)\n",
    "data.Size.fillna(value=data.Size.mean(), inplace=True)\n",
    "data.Size = data.Size.astype('int')\n",
    "size_describer = data.Size.describe()\n",
    "\n",
    "# Define large - medium - small base on -s 25% -m 50% -m 75% -l\n",
    "def convert_size(size, size_describer):\n",
    "    if size >= size_describer['75%']:\n",
    "        return 'large'\n",
    "    elif size <= size_describer['25%']:\n",
    "        return 'small'\n",
    "    else:\n",
    "        return 'medium'\n",
    "\n",
    "data['Size Label'] = data.Size.apply(lambda x: convert_size(x, size_describer))\n",
    "data['Size Label'] = data['Size Label'].astype('category')"
   ]
  },
  {
   "cell_type": "markdown",
   "metadata": {},
   "source": [
    "**Installs**"
   ]
  },
  {
   "cell_type": "code",
   "execution_count": 129,
   "metadata": {},
   "outputs": [
    {
     "data": {
      "text/plain": [
       "array(['10,000+', '500,000+', '5,000,000+', '50,000,000+', '100,000+',\n",
       "       '50,000+', '1,000,000+', '10,000,000+', '5,000+', '100,000,000+',\n",
       "       '1,000,000,000+', '1,000+', '500,000,000+', '50+', '100+', '500+',\n",
       "       '10+', '1+', '5+', '0+', '0'], dtype=object)"
      ]
     },
     "execution_count": 129,
     "metadata": {},
     "output_type": "execute_result"
    }
   ],
   "source": [
    "data.Installs.unique()"
   ]
  },
  {
   "cell_type": "code",
   "execution_count": 130,
   "metadata": {},
   "outputs": [
    {
     "data": {
      "text/html": [
       "<div>\n",
       "<style scoped>\n",
       "    .dataframe tbody tr th:only-of-type {\n",
       "        vertical-align: middle;\n",
       "    }\n",
       "\n",
       "    .dataframe tbody tr th {\n",
       "        vertical-align: top;\n",
       "    }\n",
       "\n",
       "    .dataframe thead th {\n",
       "        text-align: right;\n",
       "    }\n",
       "</style>\n",
       "<table border=\"1\" class=\"dataframe\">\n",
       "  <thead>\n",
       "    <tr style=\"text-align: right;\">\n",
       "      <th></th>\n",
       "      <th>App</th>\n",
       "      <th>Category</th>\n",
       "      <th>Rating</th>\n",
       "      <th>Reviews</th>\n",
       "      <th>Size</th>\n",
       "      <th>Installs</th>\n",
       "      <th>Type</th>\n",
       "      <th>Price</th>\n",
       "      <th>Content Rating</th>\n",
       "      <th>Genres</th>\n",
       "      <th>Android Ver</th>\n",
       "      <th>Size Label</th>\n",
       "    </tr>\n",
       "  </thead>\n",
       "  <tbody>\n",
       "    <tr>\n",
       "      <th>625</th>\n",
       "      <td>house party - live chat</td>\n",
       "      <td>dating</td>\n",
       "      <td>1.0</td>\n",
       "      <td>1</td>\n",
       "      <td>9200</td>\n",
       "      <td>10+</td>\n",
       "      <td>Free</td>\n",
       "      <td>0</td>\n",
       "      <td>Mature 17+</td>\n",
       "      <td>dating</td>\n",
       "      <td>4.0.3 and up</td>\n",
       "      <td>medium</td>\n",
       "    </tr>\n",
       "    <tr>\n",
       "      <th>630</th>\n",
       "      <td>pet lovers dating</td>\n",
       "      <td>dating</td>\n",
       "      <td>NaN</td>\n",
       "      <td>0</td>\n",
       "      <td>14000</td>\n",
       "      <td>10+</td>\n",
       "      <td>Free</td>\n",
       "      <td>0</td>\n",
       "      <td>Mature 17+</td>\n",
       "      <td>dating</td>\n",
       "      <td>4.1 and up</td>\n",
       "      <td>medium</td>\n",
       "    </tr>\n",
       "    <tr>\n",
       "      <th>632</th>\n",
       "      <td>latin dating</td>\n",
       "      <td>dating</td>\n",
       "      <td>NaN</td>\n",
       "      <td>0</td>\n",
       "      <td>13000</td>\n",
       "      <td>10+</td>\n",
       "      <td>Free</td>\n",
       "      <td>0</td>\n",
       "      <td>Mature 17+</td>\n",
       "      <td>dating</td>\n",
       "      <td>4.1 and up</td>\n",
       "      <td>medium</td>\n",
       "    </tr>\n",
       "    <tr>\n",
       "      <th>635</th>\n",
       "      <td>wifi mingle</td>\n",
       "      <td>dating</td>\n",
       "      <td>NaN</td>\n",
       "      <td>0</td>\n",
       "      <td>10000</td>\n",
       "      <td>10+</td>\n",
       "      <td>Free</td>\n",
       "      <td>0</td>\n",
       "      <td>Everyone</td>\n",
       "      <td>dating</td>\n",
       "      <td>4.4 and up</td>\n",
       "      <td>medium</td>\n",
       "    </tr>\n",
       "    <tr>\n",
       "      <th>638</th>\n",
       "      <td>when will you get married</td>\n",
       "      <td>dating</td>\n",
       "      <td>NaN</td>\n",
       "      <td>2</td>\n",
       "      <td>3600</td>\n",
       "      <td>10+</td>\n",
       "      <td>Free</td>\n",
       "      <td>0</td>\n",
       "      <td>Everyone</td>\n",
       "      <td>dating</td>\n",
       "      <td>4.0.3 and up</td>\n",
       "      <td>small</td>\n",
       "    </tr>\n",
       "  </tbody>\n",
       "</table>\n",
       "</div>"
      ],
      "text/plain": [
       "                           App Category  Rating  Reviews   Size Installs  \\\n",
       "625    house party - live chat   dating     1.0        1   9200      10+   \n",
       "630          pet lovers dating   dating     NaN        0  14000      10+   \n",
       "632               latin dating   dating     NaN        0  13000      10+   \n",
       "635                wifi mingle   dating     NaN        0  10000      10+   \n",
       "638  when will you get married   dating     NaN        2   3600      10+   \n",
       "\n",
       "     Type Price Content Rating  Genres   Android Ver Size Label  \n",
       "625  Free     0     Mature 17+  dating  4.0.3 and up     medium  \n",
       "630  Free     0     Mature 17+  dating    4.1 and up     medium  \n",
       "632  Free     0     Mature 17+  dating    4.1 and up     medium  \n",
       "635  Free     0       Everyone  dating    4.4 and up     medium  \n",
       "638  Free     0       Everyone  dating  4.0.3 and up      small  "
      ]
     },
     "execution_count": 130,
     "metadata": {},
     "output_type": "execute_result"
    }
   ],
   "source": [
    "data[data.Installs == '10+'].head()\n",
    "# => Most of unkown apps have not rated yet"
   ]
  },
  {
   "cell_type": "code",
   "execution_count": 131,
   "metadata": {},
   "outputs": [],
   "source": [
    "data.Installs = data.Installs.apply(lambda x: int(re.sub(',', '', x[:-1] if x != '0' else x)))\n",
    "\n",
    "def convert_installs(install):\n",
    "    if install == 10**9:\n",
    "        return \"Billions\"\n",
    "    elif install == 5*10**8:\n",
    "        return '500 Millions'\n",
    "    elif install == 10**8:\n",
    "        return \"100 Millions\"\n",
    "    elif install >= 10**6:\n",
    "        return \"Millions\"\n",
    "    elif install >= 10**3:\n",
    "        return \"Thousands\"\n",
    "    else:\n",
    "        return \"Unknown App\"\n",
    "\n",
    "data.Installs = data.Installs.apply(convert_installs)\n",
    "data.Installs = data.Installs.astype('category')"
   ]
  },
  {
   "cell_type": "markdown",
   "metadata": {},
   "source": [
    "**Type**"
   ]
  },
  {
   "cell_type": "code",
   "execution_count": 132,
   "metadata": {},
   "outputs": [
    {
     "data": {
      "text/html": [
       "<div>\n",
       "<style scoped>\n",
       "    .dataframe tbody tr th:only-of-type {\n",
       "        vertical-align: middle;\n",
       "    }\n",
       "\n",
       "    .dataframe tbody tr th {\n",
       "        vertical-align: top;\n",
       "    }\n",
       "\n",
       "    .dataframe thead th {\n",
       "        text-align: right;\n",
       "    }\n",
       "</style>\n",
       "<table border=\"1\" class=\"dataframe\">\n",
       "  <thead>\n",
       "    <tr style=\"text-align: right;\">\n",
       "      <th></th>\n",
       "      <th>App</th>\n",
       "      <th>Category</th>\n",
       "      <th>Rating</th>\n",
       "      <th>Reviews</th>\n",
       "      <th>Size</th>\n",
       "      <th>Installs</th>\n",
       "      <th>Type</th>\n",
       "      <th>Price</th>\n",
       "      <th>Content Rating</th>\n",
       "      <th>Genres</th>\n",
       "      <th>Android Ver</th>\n",
       "      <th>Size Label</th>\n",
       "    </tr>\n",
       "  </thead>\n",
       "  <tbody>\n",
       "    <tr>\n",
       "      <th>9148</th>\n",
       "      <td>command &amp; conquer: rivals</td>\n",
       "      <td>family</td>\n",
       "      <td>NaN</td>\n",
       "      <td>0</td>\n",
       "      <td>20419</td>\n",
       "      <td>Unknown App</td>\n",
       "      <td>NaN</td>\n",
       "      <td>0</td>\n",
       "      <td>Everyone 10+</td>\n",
       "      <td>strategy</td>\n",
       "      <td>Varies with device</td>\n",
       "      <td>medium</td>\n",
       "    </tr>\n",
       "  </tbody>\n",
       "</table>\n",
       "</div>"
      ],
      "text/plain": [
       "                            App Category  Rating  Reviews   Size     Installs  \\\n",
       "9148  command & conquer: rivals   family     NaN        0  20419  Unknown App   \n",
       "\n",
       "     Type Price Content Rating    Genres         Android Ver Size Label  \n",
       "9148  NaN     0   Everyone 10+  strategy  Varies with device     medium  "
      ]
     },
     "execution_count": 132,
     "metadata": {},
     "output_type": "execute_result"
    }
   ],
   "source": [
    "data[data.Type.isna()]\n",
    "# => safely remove"
   ]
  },
  {
   "cell_type": "code",
   "execution_count": 133,
   "metadata": {},
   "outputs": [
    {
     "data": {
      "text/plain": [
       "array(['Free', 'Paid'], dtype=object)"
      ]
     },
     "execution_count": 133,
     "metadata": {},
     "output_type": "execute_result"
    }
   ],
   "source": [
    "data.drop(labels=data[data.Type.isna()].index[0], axis=0,inplace=True)\n",
    "data.Type.unique()"
   ]
  },
  {
   "cell_type": "markdown",
   "metadata": {},
   "source": [
    "**Price**"
   ]
  },
  {
   "cell_type": "code",
   "execution_count": 134,
   "metadata": {},
   "outputs": [
    {
     "data": {
      "text/html": [
       "<div>\n",
       "<style scoped>\n",
       "    .dataframe tbody tr th:only-of-type {\n",
       "        vertical-align: middle;\n",
       "    }\n",
       "\n",
       "    .dataframe tbody tr th {\n",
       "        vertical-align: top;\n",
       "    }\n",
       "\n",
       "    .dataframe thead th {\n",
       "        text-align: right;\n",
       "    }\n",
       "</style>\n",
       "<table border=\"1\" class=\"dataframe\">\n",
       "  <thead>\n",
       "    <tr style=\"text-align: right;\">\n",
       "      <th></th>\n",
       "      <th>App</th>\n",
       "      <th>Category</th>\n",
       "      <th>Rating</th>\n",
       "      <th>Reviews</th>\n",
       "      <th>Size</th>\n",
       "      <th>Installs</th>\n",
       "      <th>Type</th>\n",
       "      <th>Price</th>\n",
       "      <th>Content Rating</th>\n",
       "      <th>Genres</th>\n",
       "      <th>Android Ver</th>\n",
       "      <th>Size Label</th>\n",
       "    </tr>\n",
       "  </thead>\n",
       "  <tbody>\n",
       "    <tr>\n",
       "      <th>4197</th>\n",
       "      <td>most expensive app (h)</td>\n",
       "      <td>family</td>\n",
       "      <td>4.3</td>\n",
       "      <td>6</td>\n",
       "      <td>1500</td>\n",
       "      <td>Unknown App</td>\n",
       "      <td>Paid</td>\n",
       "      <td>399.99</td>\n",
       "      <td>Everyone</td>\n",
       "      <td>entertainment</td>\n",
       "      <td>7.0 and up</td>\n",
       "      <td>small</td>\n",
       "    </tr>\n",
       "    <tr>\n",
       "      <th>4362</th>\n",
       "      <td>💎 i'm rich</td>\n",
       "      <td>lifestyle</td>\n",
       "      <td>3.8</td>\n",
       "      <td>718</td>\n",
       "      <td>26000</td>\n",
       "      <td>Thousands</td>\n",
       "      <td>Paid</td>\n",
       "      <td>399.99</td>\n",
       "      <td>Everyone</td>\n",
       "      <td>lifestyle</td>\n",
       "      <td>4.4 and up</td>\n",
       "      <td>large</td>\n",
       "    </tr>\n",
       "    <tr>\n",
       "      <th>4367</th>\n",
       "      <td>i'm rich - trump edition</td>\n",
       "      <td>lifestyle</td>\n",
       "      <td>3.6</td>\n",
       "      <td>275</td>\n",
       "      <td>7300</td>\n",
       "      <td>Thousands</td>\n",
       "      <td>Paid</td>\n",
       "      <td>400.00</td>\n",
       "      <td>Everyone</td>\n",
       "      <td>lifestyle</td>\n",
       "      <td>4.1 and up</td>\n",
       "      <td>medium</td>\n",
       "    </tr>\n",
       "    <tr>\n",
       "      <th>5351</th>\n",
       "      <td>i am rich</td>\n",
       "      <td>lifestyle</td>\n",
       "      <td>3.8</td>\n",
       "      <td>3547</td>\n",
       "      <td>1800</td>\n",
       "      <td>Thousands</td>\n",
       "      <td>Paid</td>\n",
       "      <td>399.99</td>\n",
       "      <td>Everyone</td>\n",
       "      <td>lifestyle</td>\n",
       "      <td>4.0.3 and up</td>\n",
       "      <td>small</td>\n",
       "    </tr>\n",
       "    <tr>\n",
       "      <th>5354</th>\n",
       "      <td>i am rich plus</td>\n",
       "      <td>family</td>\n",
       "      <td>4.0</td>\n",
       "      <td>856</td>\n",
       "      <td>8700</td>\n",
       "      <td>Thousands</td>\n",
       "      <td>Paid</td>\n",
       "      <td>399.99</td>\n",
       "      <td>Everyone</td>\n",
       "      <td>entertainment</td>\n",
       "      <td>4.4 and up</td>\n",
       "      <td>medium</td>\n",
       "    </tr>\n",
       "    <tr>\n",
       "      <th>5355</th>\n",
       "      <td>i am rich vip</td>\n",
       "      <td>lifestyle</td>\n",
       "      <td>3.8</td>\n",
       "      <td>411</td>\n",
       "      <td>2600</td>\n",
       "      <td>Thousands</td>\n",
       "      <td>Paid</td>\n",
       "      <td>299.99</td>\n",
       "      <td>Everyone</td>\n",
       "      <td>lifestyle</td>\n",
       "      <td>4.3 and up</td>\n",
       "      <td>small</td>\n",
       "    </tr>\n",
       "    <tr>\n",
       "      <th>5356</th>\n",
       "      <td>i am rich premium</td>\n",
       "      <td>finance</td>\n",
       "      <td>4.1</td>\n",
       "      <td>1867</td>\n",
       "      <td>4700</td>\n",
       "      <td>Thousands</td>\n",
       "      <td>Paid</td>\n",
       "      <td>399.99</td>\n",
       "      <td>Everyone</td>\n",
       "      <td>finance</td>\n",
       "      <td>4.0 and up</td>\n",
       "      <td>small</td>\n",
       "    </tr>\n",
       "    <tr>\n",
       "      <th>5357</th>\n",
       "      <td>i am extremely rich</td>\n",
       "      <td>lifestyle</td>\n",
       "      <td>2.9</td>\n",
       "      <td>41</td>\n",
       "      <td>2900</td>\n",
       "      <td>Thousands</td>\n",
       "      <td>Paid</td>\n",
       "      <td>379.99</td>\n",
       "      <td>Everyone</td>\n",
       "      <td>lifestyle</td>\n",
       "      <td>4.0 and up</td>\n",
       "      <td>small</td>\n",
       "    </tr>\n",
       "    <tr>\n",
       "      <th>5358</th>\n",
       "      <td>i am rich!</td>\n",
       "      <td>finance</td>\n",
       "      <td>3.8</td>\n",
       "      <td>93</td>\n",
       "      <td>22000</td>\n",
       "      <td>Thousands</td>\n",
       "      <td>Paid</td>\n",
       "      <td>399.99</td>\n",
       "      <td>Everyone</td>\n",
       "      <td>finance</td>\n",
       "      <td>4.1 and up</td>\n",
       "      <td>medium</td>\n",
       "    </tr>\n",
       "    <tr>\n",
       "      <th>5359</th>\n",
       "      <td>i am rich(premium)</td>\n",
       "      <td>finance</td>\n",
       "      <td>3.5</td>\n",
       "      <td>472</td>\n",
       "      <td>965</td>\n",
       "      <td>Thousands</td>\n",
       "      <td>Paid</td>\n",
       "      <td>399.99</td>\n",
       "      <td>Everyone</td>\n",
       "      <td>finance</td>\n",
       "      <td>4.4 and up</td>\n",
       "      <td>small</td>\n",
       "    </tr>\n",
       "    <tr>\n",
       "      <th>5362</th>\n",
       "      <td>i am rich pro</td>\n",
       "      <td>family</td>\n",
       "      <td>4.4</td>\n",
       "      <td>201</td>\n",
       "      <td>2700</td>\n",
       "      <td>Thousands</td>\n",
       "      <td>Paid</td>\n",
       "      <td>399.99</td>\n",
       "      <td>Everyone</td>\n",
       "      <td>entertainment</td>\n",
       "      <td>1.6 and up</td>\n",
       "      <td>small</td>\n",
       "    </tr>\n",
       "    <tr>\n",
       "      <th>5364</th>\n",
       "      <td>i am rich (most expensive app)</td>\n",
       "      <td>finance</td>\n",
       "      <td>4.1</td>\n",
       "      <td>129</td>\n",
       "      <td>2700</td>\n",
       "      <td>Thousands</td>\n",
       "      <td>Paid</td>\n",
       "      <td>399.99</td>\n",
       "      <td>Teen</td>\n",
       "      <td>finance</td>\n",
       "      <td>4.0.3 and up</td>\n",
       "      <td>small</td>\n",
       "    </tr>\n",
       "    <tr>\n",
       "      <th>5373</th>\n",
       "      <td>i am rich pro plus</td>\n",
       "      <td>finance</td>\n",
       "      <td>4.0</td>\n",
       "      <td>36</td>\n",
       "      <td>41000</td>\n",
       "      <td>Thousands</td>\n",
       "      <td>Paid</td>\n",
       "      <td>399.99</td>\n",
       "      <td>Everyone</td>\n",
       "      <td>finance</td>\n",
       "      <td>4.1 and up</td>\n",
       "      <td>large</td>\n",
       "    </tr>\n",
       "    <tr>\n",
       "      <th>6624</th>\n",
       "      <td>bp fitness lead scanner</td>\n",
       "      <td>events</td>\n",
       "      <td>NaN</td>\n",
       "      <td>0</td>\n",
       "      <td>6700</td>\n",
       "      <td>Unknown App</td>\n",
       "      <td>Paid</td>\n",
       "      <td>109.99</td>\n",
       "      <td>Everyone</td>\n",
       "      <td>events</td>\n",
       "      <td>4.1 and up</td>\n",
       "      <td>medium</td>\n",
       "    </tr>\n",
       "    <tr>\n",
       "      <th>6692</th>\n",
       "      <td>cronometra-br</td>\n",
       "      <td>productivity</td>\n",
       "      <td>NaN</td>\n",
       "      <td>0</td>\n",
       "      <td>5400</td>\n",
       "      <td>Unknown App</td>\n",
       "      <td>Paid</td>\n",
       "      <td>154.99</td>\n",
       "      <td>Everyone</td>\n",
       "      <td>productivity</td>\n",
       "      <td>4.1 and up</td>\n",
       "      <td>medium</td>\n",
       "    </tr>\n",
       "    <tr>\n",
       "      <th>9719</th>\n",
       "      <td>ep cook book</td>\n",
       "      <td>medical</td>\n",
       "      <td>NaN</td>\n",
       "      <td>0</td>\n",
       "      <td>3200</td>\n",
       "      <td>Unknown App</td>\n",
       "      <td>Paid</td>\n",
       "      <td>200.00</td>\n",
       "      <td>Everyone</td>\n",
       "      <td>medical</td>\n",
       "      <td>3.0 and up</td>\n",
       "      <td>small</td>\n",
       "    </tr>\n",
       "    <tr>\n",
       "      <th>9934</th>\n",
       "      <td>i'm rich/eu sou rico/أنا غني/我很有錢</td>\n",
       "      <td>lifestyle</td>\n",
       "      <td>NaN</td>\n",
       "      <td>0</td>\n",
       "      <td>40000</td>\n",
       "      <td>Unknown App</td>\n",
       "      <td>Paid</td>\n",
       "      <td>399.99</td>\n",
       "      <td>Everyone</td>\n",
       "      <td>lifestyle</td>\n",
       "      <td>4.1 and up</td>\n",
       "      <td>large</td>\n",
       "    </tr>\n",
       "  </tbody>\n",
       "</table>\n",
       "</div>"
      ],
      "text/plain": [
       "                                    App      Category  Rating  Reviews   Size  \\\n",
       "4197             most expensive app (h)        family     4.3        6   1500   \n",
       "4362                         💎 i'm rich     lifestyle     3.8      718  26000   \n",
       "4367           i'm rich - trump edition     lifestyle     3.6      275   7300   \n",
       "5351                          i am rich     lifestyle     3.8     3547   1800   \n",
       "5354                     i am rich plus        family     4.0      856   8700   \n",
       "5355                      i am rich vip     lifestyle     3.8      411   2600   \n",
       "5356                  i am rich premium       finance     4.1     1867   4700   \n",
       "5357                i am extremely rich     lifestyle     2.9       41   2900   \n",
       "5358                         i am rich!       finance     3.8       93  22000   \n",
       "5359                 i am rich(premium)       finance     3.5      472    965   \n",
       "5362                      i am rich pro        family     4.4      201   2700   \n",
       "5364     i am rich (most expensive app)       finance     4.1      129   2700   \n",
       "5373                 i am rich pro plus       finance     4.0       36  41000   \n",
       "6624            bp fitness lead scanner        events     NaN        0   6700   \n",
       "6692                      cronometra-br  productivity     NaN        0   5400   \n",
       "9719                       ep cook book       medical     NaN        0   3200   \n",
       "9934  i'm rich/eu sou rico/أنا غني/我很有錢     lifestyle     NaN        0  40000   \n",
       "\n",
       "         Installs  Type   Price Content Rating         Genres   Android Ver  \\\n",
       "4197  Unknown App  Paid  399.99       Everyone  entertainment    7.0 and up   \n",
       "4362    Thousands  Paid  399.99       Everyone      lifestyle    4.4 and up   \n",
       "4367    Thousands  Paid  400.00       Everyone      lifestyle    4.1 and up   \n",
       "5351    Thousands  Paid  399.99       Everyone      lifestyle  4.0.3 and up   \n",
       "5354    Thousands  Paid  399.99       Everyone  entertainment    4.4 and up   \n",
       "5355    Thousands  Paid  299.99       Everyone      lifestyle    4.3 and up   \n",
       "5356    Thousands  Paid  399.99       Everyone        finance    4.0 and up   \n",
       "5357    Thousands  Paid  379.99       Everyone      lifestyle    4.0 and up   \n",
       "5358    Thousands  Paid  399.99       Everyone        finance    4.1 and up   \n",
       "5359    Thousands  Paid  399.99       Everyone        finance    4.4 and up   \n",
       "5362    Thousands  Paid  399.99       Everyone  entertainment    1.6 and up   \n",
       "5364    Thousands  Paid  399.99           Teen        finance  4.0.3 and up   \n",
       "5373    Thousands  Paid  399.99       Everyone        finance    4.1 and up   \n",
       "6624  Unknown App  Paid  109.99       Everyone         events    4.1 and up   \n",
       "6692  Unknown App  Paid  154.99       Everyone   productivity    4.1 and up   \n",
       "9719  Unknown App  Paid  200.00       Everyone        medical    3.0 and up   \n",
       "9934  Unknown App  Paid  399.99       Everyone      lifestyle    4.1 and up   \n",
       "\n",
       "     Size Label  \n",
       "4197      small  \n",
       "4362      large  \n",
       "4367     medium  \n",
       "5351      small  \n",
       "5354     medium  \n",
       "5355      small  \n",
       "5356      small  \n",
       "5357      small  \n",
       "5358     medium  \n",
       "5359      small  \n",
       "5362      small  \n",
       "5364      small  \n",
       "5373      large  \n",
       "6624     medium  \n",
       "6692     medium  \n",
       "9719      small  \n",
       "9934      large  "
      ]
     },
     "execution_count": 134,
     "metadata": {},
     "output_type": "execute_result"
    }
   ],
   "source": [
    "data.Price = data.Price.apply(lambda x: float(x[1:]) if x != '0' else 0)\n",
    "data[data.Price >= 100]"
   ]
  },
  {
   "cell_type": "markdown",
   "metadata": {},
   "source": [
    "* Making money is easy, perhaps\n",
    "* Or do they launder money?"
   ]
  },
  {
   "cell_type": "code",
   "execution_count": 135,
   "metadata": {},
   "outputs": [],
   "source": [
    "# It will be better if we just remove it\n",
    "data.drop(labels=data[data.Price >= 100].index, axis=0, inplace=True)"
   ]
  },
  {
   "cell_type": "markdown",
   "metadata": {},
   "source": [
    "**Content Rating**"
   ]
  },
  {
   "cell_type": "code",
   "execution_count": 136,
   "metadata": {},
   "outputs": [
    {
     "data": {
      "text/plain": [
       "array(['Everyone', 'Teen', 'Everyone 10+', 'Mature 17+',\n",
       "       'Adults only 18+', 'Unrated'], dtype=object)"
      ]
     },
     "execution_count": 136,
     "metadata": {},
     "output_type": "execute_result"
    }
   ],
   "source": [
    "data['Content Rating'].unique()"
   ]
  },
  {
   "cell_type": "code",
   "execution_count": 137,
   "metadata": {},
   "outputs": [
    {
     "data": {
      "text/html": [
       "<div>\n",
       "<style scoped>\n",
       "    .dataframe tbody tr th:only-of-type {\n",
       "        vertical-align: middle;\n",
       "    }\n",
       "\n",
       "    .dataframe tbody tr th {\n",
       "        vertical-align: top;\n",
       "    }\n",
       "\n",
       "    .dataframe thead th {\n",
       "        text-align: right;\n",
       "    }\n",
       "</style>\n",
       "<table border=\"1\" class=\"dataframe\">\n",
       "  <thead>\n",
       "    <tr style=\"text-align: right;\">\n",
       "      <th></th>\n",
       "      <th>App</th>\n",
       "      <th>Category</th>\n",
       "      <th>Rating</th>\n",
       "      <th>Reviews</th>\n",
       "      <th>Size</th>\n",
       "      <th>Installs</th>\n",
       "      <th>Type</th>\n",
       "      <th>Price</th>\n",
       "      <th>Content Rating</th>\n",
       "      <th>Genres</th>\n",
       "      <th>Android Ver</th>\n",
       "      <th>Size Label</th>\n",
       "    </tr>\n",
       "  </thead>\n",
       "  <tbody>\n",
       "    <tr>\n",
       "      <th>298</th>\n",
       "      <td>manga master - best manga &amp; comic reader</td>\n",
       "      <td>comics</td>\n",
       "      <td>4.6</td>\n",
       "      <td>24005</td>\n",
       "      <td>4900</td>\n",
       "      <td>Thousands</td>\n",
       "      <td>Free</td>\n",
       "      <td>0.0</td>\n",
       "      <td>Adults only 18+</td>\n",
       "      <td>comics</td>\n",
       "      <td>4.1 and up</td>\n",
       "      <td>small</td>\n",
       "    </tr>\n",
       "    <tr>\n",
       "      <th>3043</th>\n",
       "      <td>draftkings - daily fantasy sports</td>\n",
       "      <td>sports</td>\n",
       "      <td>4.5</td>\n",
       "      <td>50017</td>\n",
       "      <td>41000</td>\n",
       "      <td>Millions</td>\n",
       "      <td>Free</td>\n",
       "      <td>0.0</td>\n",
       "      <td>Adults only 18+</td>\n",
       "      <td>sports</td>\n",
       "      <td>4.4 and up</td>\n",
       "      <td>large</td>\n",
       "    </tr>\n",
       "    <tr>\n",
       "      <th>6424</th>\n",
       "      <td>manga books</td>\n",
       "      <td>comics</td>\n",
       "      <td>3.8</td>\n",
       "      <td>7326</td>\n",
       "      <td>20419</td>\n",
       "      <td>Thousands</td>\n",
       "      <td>Free</td>\n",
       "      <td>0.0</td>\n",
       "      <td>Adults only 18+</td>\n",
       "      <td>comics</td>\n",
       "      <td>Varies with device</td>\n",
       "      <td>medium</td>\n",
       "    </tr>\n",
       "  </tbody>\n",
       "</table>\n",
       "</div>"
      ],
      "text/plain": [
       "                                           App Category  Rating  Reviews  \\\n",
       "298   manga master - best manga & comic reader   comics     4.6    24005   \n",
       "3043         draftkings - daily fantasy sports   sports     4.5    50017   \n",
       "6424                               manga books   comics     3.8     7326   \n",
       "\n",
       "       Size   Installs  Type  Price   Content Rating  Genres  \\\n",
       "298    4900  Thousands  Free    0.0  Adults only 18+  comics   \n",
       "3043  41000   Millions  Free    0.0  Adults only 18+  sports   \n",
       "6424  20419  Thousands  Free    0.0  Adults only 18+  comics   \n",
       "\n",
       "             Android Ver Size Label  \n",
       "298           4.1 and up      small  \n",
       "3043          4.4 and up      large  \n",
       "6424  Varies with device     medium  "
      ]
     },
     "execution_count": 137,
     "metadata": {},
     "output_type": "execute_result"
    }
   ],
   "source": [
    "data[data['Content Rating'] == 'Adults only 18+']"
   ]
  },
  {
   "cell_type": "code",
   "execution_count": 273,
   "metadata": {},
   "outputs": [
    {
     "data": {
      "text/plain": [
       "Everyone           7867\n",
       "Teen               1034\n",
       "Mature 17+          393\n",
       "Everyone 10+        321\n",
       "Adults only 18+       3\n",
       "Unrated               2\n",
       "Name: Content Rating, dtype: int64"
      ]
     },
     "execution_count": 273,
     "metadata": {},
     "output_type": "execute_result"
    }
   ],
   "source": [
    "data['Content Rating'].value_counts()"
   ]
  },
  {
   "cell_type": "markdown",
   "metadata": {},
   "source": [
    "**Android Ver**"
   ]
  },
  {
   "cell_type": "code",
   "execution_count": 139,
   "metadata": {},
   "outputs": [
    {
     "data": {
      "text/plain": [
       "count           9618\n",
       "unique            33\n",
       "top       4.1 and up\n",
       "freq            2192\n",
       "Name: Android Ver, dtype: object"
      ]
     },
     "execution_count": 139,
     "metadata": {},
     "output_type": "execute_result"
    }
   ],
   "source": [
    "data['Android Ver'].describe()"
   ]
  },
  {
   "cell_type": "code",
   "execution_count": 140,
   "metadata": {},
   "outputs": [],
   "source": [
    "data['Android Ver'].fillna('4.1 and up', inplace=True)"
   ]
  },
  {
   "cell_type": "markdown",
   "metadata": {},
   "source": [
    "**Rating**"
   ]
  },
  {
   "cell_type": "code",
   "execution_count": 141,
   "metadata": {},
   "outputs": [
    {
     "data": {
      "text/html": [
       "<div>\n",
       "<style scoped>\n",
       "    .dataframe tbody tr th:only-of-type {\n",
       "        vertical-align: middle;\n",
       "    }\n",
       "\n",
       "    .dataframe tbody tr th {\n",
       "        vertical-align: top;\n",
       "    }\n",
       "\n",
       "    .dataframe thead th {\n",
       "        text-align: right;\n",
       "    }\n",
       "</style>\n",
       "<table border=\"1\" class=\"dataframe\">\n",
       "  <thead>\n",
       "    <tr style=\"text-align: right;\">\n",
       "      <th></th>\n",
       "      <th>App</th>\n",
       "      <th>Category</th>\n",
       "      <th>Rating</th>\n",
       "      <th>Reviews</th>\n",
       "      <th>Size</th>\n",
       "      <th>Installs</th>\n",
       "      <th>Type</th>\n",
       "      <th>Price</th>\n",
       "      <th>Content Rating</th>\n",
       "      <th>Genres</th>\n",
       "      <th>Android Ver</th>\n",
       "      <th>Size Label</th>\n",
       "    </tr>\n",
       "  </thead>\n",
       "  <tbody>\n",
       "    <tr>\n",
       "      <th>9255</th>\n",
       "      <td>compactima ec ph calibration</td>\n",
       "      <td>books_and_reference</td>\n",
       "      <td>NaN</td>\n",
       "      <td>0</td>\n",
       "      <td>8400</td>\n",
       "      <td>Unknown App</td>\n",
       "      <td>Free</td>\n",
       "      <td>0.00</td>\n",
       "      <td>Everyone</td>\n",
       "      <td>books_and_reference</td>\n",
       "      <td>4.1 and up</td>\n",
       "      <td>medium</td>\n",
       "    </tr>\n",
       "    <tr>\n",
       "      <th>7384</th>\n",
       "      <td>all-night drugstore ci &amp; price</td>\n",
       "      <td>health_and_fitness</td>\n",
       "      <td>NaN</td>\n",
       "      <td>0</td>\n",
       "      <td>5100</td>\n",
       "      <td>Unknown App</td>\n",
       "      <td>Paid</td>\n",
       "      <td>0.99</td>\n",
       "      <td>Everyone</td>\n",
       "      <td>health_and_fitness</td>\n",
       "      <td>1.6 and up</td>\n",
       "      <td>small</td>\n",
       "    </tr>\n",
       "    <tr>\n",
       "      <th>9703</th>\n",
       "      <td>ep-liggare - elektronisk personalliggare</td>\n",
       "      <td>tools</td>\n",
       "      <td>NaN</td>\n",
       "      <td>0</td>\n",
       "      <td>21000</td>\n",
       "      <td>Unknown App</td>\n",
       "      <td>Free</td>\n",
       "      <td>0.00</td>\n",
       "      <td>Everyone</td>\n",
       "      <td>tools</td>\n",
       "      <td>4.1 and up</td>\n",
       "      <td>medium</td>\n",
       "    </tr>\n",
       "    <tr>\n",
       "      <th>6502</th>\n",
       "      <td>bn perks™</td>\n",
       "      <td>lifestyle</td>\n",
       "      <td>NaN</td>\n",
       "      <td>0</td>\n",
       "      <td>15000</td>\n",
       "      <td>Unknown App</td>\n",
       "      <td>Free</td>\n",
       "      <td>0.00</td>\n",
       "      <td>Everyone</td>\n",
       "      <td>lifestyle</td>\n",
       "      <td>4.0.3 and up</td>\n",
       "      <td>medium</td>\n",
       "    </tr>\n",
       "    <tr>\n",
       "      <th>4270</th>\n",
       "      <td>guess the song of j balvin</td>\n",
       "      <td>game</td>\n",
       "      <td>NaN</td>\n",
       "      <td>28</td>\n",
       "      <td>8900</td>\n",
       "      <td>Thousands</td>\n",
       "      <td>Free</td>\n",
       "      <td>0.00</td>\n",
       "      <td>Everyone</td>\n",
       "      <td>trivia</td>\n",
       "      <td>4.1 and up</td>\n",
       "      <td>medium</td>\n",
       "    </tr>\n",
       "  </tbody>\n",
       "</table>\n",
       "</div>"
      ],
      "text/plain": [
       "                                           App             Category  Rating  \\\n",
       "9255              compactima ec ph calibration  books_and_reference     NaN   \n",
       "7384            all-night drugstore ci & price   health_and_fitness     NaN   \n",
       "9703  ep-liggare - elektronisk personalliggare                tools     NaN   \n",
       "6502                                 bn perks™            lifestyle     NaN   \n",
       "4270                guess the song of j balvin                 game     NaN   \n",
       "\n",
       "      Reviews   Size     Installs  Type  Price Content Rating  \\\n",
       "9255        0   8400  Unknown App  Free   0.00       Everyone   \n",
       "7384        0   5100  Unknown App  Paid   0.99       Everyone   \n",
       "9703        0  21000  Unknown App  Free   0.00       Everyone   \n",
       "6502        0  15000  Unknown App  Free   0.00       Everyone   \n",
       "4270       28   8900    Thousands  Free   0.00       Everyone   \n",
       "\n",
       "                   Genres   Android Ver Size Label  \n",
       "9255  books_and_reference    4.1 and up     medium  \n",
       "7384   health_and_fitness    1.6 and up      small  \n",
       "9703                tools    4.1 and up     medium  \n",
       "6502            lifestyle  4.0.3 and up     medium  \n",
       "4270               trivia    4.1 and up     medium  "
      ]
     },
     "execution_count": 141,
     "metadata": {},
     "output_type": "execute_result"
    }
   ],
   "source": [
    "data[data.Rating.isna()].sample(5)"
   ]
  },
  {
   "cell_type": "code",
   "execution_count": 142,
   "metadata": {},
   "outputs": [],
   "source": [
    "# Define NaN Rating by Reviews and Installs\n",
    "def standard_rating(Installs, Reviews, Rating):\n",
    "    if Installs == 'Unknown App' and str(Rating) == 'nan':\n",
    "        return 0\n",
    "    elif Installs == 'Thousands' and str(Rating) == 'nan':\n",
    "        if Reviews >= 100:\n",
    "            return 2.5\n",
    "        else:\n",
    "            return 0.5\n",
    "    elif str(Rating) == 'nan':\n",
    "        return 1\n",
    "    else:\n",
    "        return Rating\n",
    "\n",
    "\n",
    "data.Rating = data.apply(\n",
    "    lambda x: standard_rating(\n",
    "        x.Installs, \n",
    "        x.Reviews, \n",
    "        x.Rating\n",
    "        ),\n",
    "        axis=1\n",
    "    )"
   ]
  },
  {
   "cell_type": "code",
   "execution_count": 143,
   "metadata": {},
   "outputs": [
    {
     "data": {
      "text/plain": [
       "Series([], dtype: int64)"
      ]
     },
     "execution_count": 143,
     "metadata": {},
     "output_type": "execute_result"
    }
   ],
   "source": [
    "# Check nah\n",
    "data.isna().sum()[data.isna().sum() > 0]"
   ]
  },
  {
   "cell_type": "markdown",
   "metadata": {},
   "source": [
    "**Done!**"
   ]
  },
  {
   "cell_type": "markdown",
   "metadata": {},
   "source": [
    "### EDA Tasks"
   ]
  },
  {
   "cell_type": "code",
   "execution_count": 144,
   "metadata": {},
   "outputs": [
    {
     "data": {
      "image/png": "[encoded data removed]",
      "text/plain": [
       "<Figure size 1008x1584 with 4 Axes>"
      ]
     },
     "metadata": {
      "needs_background": "light"
     },
     "output_type": "display_data"
    },
    {
     "data": {
      "text/plain": [
       "<Figure size 720x360 with 0 Axes>"
      ]
     },
     "metadata": {},
     "output_type": "display_data"
    }
   ],
   "source": [
    "# Top 10 Most ...\n",
    "fig, axes = plt.subplots(4,1, figsize=(14, 22))\n",
    "\n",
    "total_genres = data.Genres.to_numpy()\n",
    "list_genres = list(dictionary)\n",
    "count_genres = [0] * len(dictionary)\n",
    "for genres in total_genres:\n",
    "    for genre in genres.split():\n",
    "        if genre in dictionary:\n",
    "            count_genres[list_genres.index(genre)] += 1\n",
    "\n",
    "count_genres = np.array(count_genres)\n",
    "list_genres = np.array(list_genres)\n",
    "ranking = count_genres.argsort()[::-1][:10]\n",
    "\n",
    "bills = data.Installs.str.contains('Billions')\n",
    "cate_bills = data[bills].Category.value_counts() > 0\n",
    "cate_bills = data[bills].Category.value_counts()[cate_bills]\n",
    "fig = plt.figure(figsize=(10, 5))\n",
    "\n",
    "top10cate = data.Category.value_counts().head(10)\n",
    "top10rev = data.sort_values(by='Reviews', ascending=False).head(10)\n",
    "ax0 = sns.barplot(x='Reviews', y='App', data=top10rev, ax=axes[0])\n",
    "ax0.set(title='Top 10 Most Reviews')\n",
    "ax1 = sns.barplot(x=top10cate.to_numpy(), y=top10cate.keys().to_numpy(), ax=axes[1])\n",
    "ax1.set(xlabel='Num Apps', ylabel='Categories', title='Top 10 Most Categories')\n",
    "ax2 = sns.barplot(x=count_genres[ranking], y=list_genres[ranking], ax=axes[2])\n",
    "ax2.set(xlabel='Num Apps', ylabel='Genres', title='Top 10 Most Genres')\n",
    "ax3 = sns.barplot(x=cate_bills.to_numpy(), y=cate_bills.keys().to_numpy(), ax=axes[3])\n",
    "ax3.set(xlabel='Num Apps', ylabel='Categories', title='Top Billions App Category')\n",
    "plt.show()"
   ]
  },
  {
   "cell_type": "markdown",
   "metadata": {},
   "source": [
    "**=> It's hard to compete in the communication app or social app with Big Tech Companies**\n",
    "\n",
    "**=> Top 4 Reviews belong from Meta. Unlike Google, Meta apps are not auto-downloaded with android but people still care about these apps**\n",
    "\n",
    "**=> Top commom apps are tool, education and entertainment for family, game and tool**"
   ]
  },
  {
   "cell_type": "code",
   "execution_count": 145,
   "metadata": {},
   "outputs": [
    {
     "data": {
      "image/png": "[encoded data removed]",
      "text/plain": [
       "<Figure size 720x432 with 1 Axes>"
      ]
     },
     "metadata": {},
     "output_type": "display_data"
    }
   ],
   "source": [
    "g_text = data.App.str.contains('google|gmail|hangouts|maps')\n",
    "meta = data.App.str.contains('facebook|messenger|whatsapp|instagram')\n",
    "googles = data[np.logical_and(g_text, bills)]\n",
    "metas = data[np.logical_and(meta, bills)]\n",
    "\n",
    "labels = ['Meta', 'Google']\n",
    "sizes = [metas.shape[0], googles.shape[0]]\n",
    "explodes = [0, 0.1]\n",
    "\n",
    "for app in data[bills].App:\n",
    "    if app not in googles.App.to_numpy() and app not in metas.App.to_numpy():\n",
    "        labels.append(app)\n",
    "        sizes.append(1)\n",
    "        explodes.append(0)\n",
    "\n",
    "sizes = np.array(sizes) / sum(sizes)\n",
    "fig = plt.figure(figsize=(10, 6))\n",
    "plt.pie(sizes, explode=explodes, labels=labels, autopct='%1.1f%%', shadow=True)\n",
    "plt.axis('equal')\n",
    "plt.legend()\n",
    "plt.title('Top Billion App Companies')\n",
    "plt.show()"
   ]
  },
  {
   "cell_type": "markdown",
   "metadata": {},
   "source": [
    "**=> Googles are available from almost android mobile**"
   ]
  },
  {
   "cell_type": "code",
   "execution_count": 146,
   "metadata": {},
   "outputs": [
    {
     "data": {
      "image/png": "[encoded data removed]",
      "text/plain": [
       "<Figure size 720x432 with 1 Axes>"
      ]
     },
     "metadata": {
      "needs_background": "light"
     },
     "output_type": "display_data"
    }
   ],
   "source": [
    "fig = plt.figure(figsize=(10, 6))\n",
    "sns.histplot(data[data.Rating >= 1].Rating, color=\"orange\")\n",
    "plt.title('Rating Distribution')\n",
    "plt.show()"
   ]
  },
  {
   "cell_type": "markdown",
   "metadata": {},
   "source": [
    "**=> People usually give most of the 4 stars. Personal thinking, I don't believe 5 stars apps**"
   ]
  },
  {
   "cell_type": "code",
   "execution_count": 147,
   "metadata": {},
   "outputs": [
    {
     "data": {
      "text/plain": [
       "<AxesSubplot:>"
      ]
     },
     "execution_count": 147,
     "metadata": {},
     "output_type": "execute_result"
    },
    {
     "data": {
      "image/png": "[encoded data removed]",
      "text/plain": [
       "<Figure size 432x288 with 2 Axes>"
      ]
     },
     "metadata": {
      "needs_background": "light"
     },
     "output_type": "display_data"
    }
   ],
   "source": [
    "sns.heatmap(data.corr(), annot=True, linewidths=0.5, cmap=\"YlGnBu\")"
   ]
  },
  {
   "cell_type": "code",
   "execution_count": 148,
   "metadata": {},
   "outputs": [
    {
     "data": {
      "image/png": "[encoded data removed]",
      "text/plain": [
       "<Figure size 720x432 with 1 Axes>"
      ]
     },
     "metadata": {
      "needs_background": "light"
     },
     "output_type": "display_data"
    }
   ],
   "source": [
    "# Correlation between Rating and Installs\n",
    "def labelize(series):\n",
    "    if series == 'Unknown App':\n",
    "        return 0\n",
    "    elif series == 'Thousands':\n",
    "        return 1\n",
    "    elif series == 'Millions':\n",
    "        return 2\n",
    "    elif series == '100 Millions':\n",
    "        return 3\n",
    "    elif series == '500 Millions':\n",
    "        return 4\n",
    "    else:\n",
    "        return 5\n",
    "\n",
    "install_label = data.Installs.apply(labelize)\n",
    "fig = plt.figure(figsize=(10, 6))\n",
    "sns.scatterplot(x=data.Rating, y=install_label)\n",
    "plt.yticks([0,1,2,3,4,5],['Unknown', 'Thousands', 'Millions', '100 Millions', '500 Millions', 'Billions'])\n",
    "plt.ylabel('Install')\n",
    "plt.title('Correlation between Rating and Installs')\n",
    "plt.show()"
   ]
  },
  {
   "cell_type": "markdown",
   "metadata": {},
   "source": [
    "**=> Almost billions or beyond 100 million installed apps have about 4 stars, while the others fluctuated**"
   ]
  },
  {
   "cell_type": "code",
   "execution_count": 153,
   "metadata": {},
   "outputs": [
    {
     "data": {
      "image/png": "[encoded data removed]",
      "text/plain": [
       "<Figure size 864x720 with 1 Axes>"
      ]
     },
     "metadata": {
      "needs_background": "light"
     },
     "output_type": "display_data"
    }
   ],
   "source": [
    "fig = plt.figure(figsize=(12, 10))\n",
    "sns.kdeplot(x='Rating', y='Size', data=data, hue='Installs',color = 'mediumaquamarine')\n",
    "plt.title('Correlation between Rating and Size', loc='center')\n",
    "plt.show()"
   ]
  },
  {
   "cell_type": "markdown",
   "metadata": {},
   "source": [
    "**=> Billions installed-apps around 200M. The beyond 800MB size that have millions installer have a few apps rated at around 4.5 stars**\n",
    "\n",
    "**=> New apps that have few installers need to keep the size low to achieve a high rate**"
   ]
  },
  {
   "cell_type": "code",
   "execution_count": 231,
   "metadata": {},
   "outputs": [
    {
     "data": {
      "image/png": "[encoded data removed]",
      "text/plain": [
       "<Figure size 1152x720 with 1 Axes>"
      ]
     },
     "metadata": {
      "needs_background": "light"
     },
     "output_type": "display_data"
    }
   ],
   "source": [
    "mills = data.Installs.str.contains('Millions')\n",
    "mills_cate = data[mills].Category.value_counts().nlargest(10)\n",
    "\n",
    "list_millions_cate = mills_cate.index.to_list()\n",
    "top_app_cate = data[data.Category.isin(list_millions_cate)]\n",
    "top_app_cate = pd.crosstab(top_app_cate.Installs, top_app_cate.Category).apply(lambda x: x/x.sum(), axis=1)\n",
    "\n",
    "top_app_cate.plot(kind='bar', stacked=True, figsize=(16,10))\n",
    "plt.xticks(rotation=0)\n",
    "plt.title('Top 10 Categories from Millions Apps thourgh Installers')\n",
    "plt.show()"
   ]
  },
  {
   "cell_type": "markdown",
   "metadata": {},
   "source": [
    "**Top 10 common categories apps based on millions:**\n",
    "\n",
    "**=> There no category of family in Billions and 500 Millions.**\n",
    "\n",
    "**=> Shopping App appear just a few**\n",
    "\n",
    "**=> Family and Game are not a common categories at beyond 500 Millions figure**"
   ]
  },
  {
   "cell_type": "code",
   "execution_count": 280,
   "metadata": {},
   "outputs": [
    {
     "name": "stdout",
     "output_type": "stream",
     "text": [
      "Summary\n",
      "Total App in 2018: 9620 Apps\n",
      "Total App Reviews in 2018: 2087100867 Reviews\n",
      "Total Categories: 33 Categories\n",
      "Total Genres: 111 Genres\n",
      "--------------------------------------------------\n",
      "Top verion of android: ver 4.1 and up \n",
      "Most Review App: facebook\n",
      "Largest Size App: post bank\n",
      "Top Content Rating: Everyone (7867 Apps)\n"
     ]
    }
   ],
   "source": [
    "print('Summary')\n",
    "print('Total App in 2018: {} Apps'.format(data.shape[0]))\n",
    "print('Total App Reviews in 2018: {} Reviews'.format(data.Reviews.sum()))\n",
    "print('Total Categories: {} Categories'.format(data.Category.nunique()))\n",
    "print('Total Genres: {} Genres'.format(data.Genres.nunique()))\n",
    "print('-'*50)\n",
    "print('Top verion of android: ver {} '.format(data['Android Ver'].describe().top))\n",
    "print('Most Review App: {}'.format(data.loc[data.Reviews.nlargest(1).index[0]].App))\n",
    "print('Largest Size App: {}'.format(data.loc[data.Size.nlargest(1).index[0]].App))\n",
    "print('Top Content Rating: {} ({} Apps)'.format(data['Content Rating'].describe().top, data['Content Rating'].value_counts()[0]))"
   ]
  }
 ],
 "metadata": {
  "interpreter": {
   "hash": "965ba1120b0c101b3f715b6e258a73742ec1cf86f2c8b04492724c87d9f112c3"
  },
  "kernelspec": {
   "display_name": "Python 3.8.9 64-bit",
   "language": "python",
   "name": "python3"
  },
  "language_info": {
   "codemirror_mode": {
    "name": "ipython",
    "version": 3
   },
   "file_extension": ".py",
   "mimetype": "text/x-python",
   "name": "python",
   "nbconvert_exporter": "python",
   "pygments_lexer": "ipython3",
   "version": "3.8.9"
  },
  "orig_nbformat": 4
 },
 "nbformat": 4,
 "nbformat_minor": 2
}
